{
 "cells": [
  {
   "cell_type": "markdown",
   "metadata": {},
   "source": [
    "# viz-2a-cars-splom.ipynb\n",
    "\n",
    "With this notebook we're creating another scatterplot matrix using the cars dataset you might know from Vega. However, this time we're taking the data from outside Elasticsearch and index it using eland."
   ]
  },
  {
   "cell_type": "code",
   "execution_count": 1,
   "metadata": {},
   "outputs": [
    {
     "data": {
      "text/plain": [
       "DataTransformerRegistry.enable('default')"
      ]
     },
     "execution_count": 1,
     "metadata": {},
     "output_type": "execute_result"
    }
   ],
   "source": [
    "import datetime\n",
    "import altair as alt\n",
    "import eland as ed\n",
    "import json\n",
    "import numpy as np\n",
    "import matplotlib.pyplot as plt\n",
    "alt.data_transformers.disable_max_rows()"
   ]
  },
  {
   "cell_type": "code",
   "execution_count": 2,
   "metadata": {},
   "outputs": [],
   "source": [
    "index_name = 'pandas_to_eland'"
   ]
  },
  {
   "cell_type": "code",
   "execution_count": 3,
   "metadata": {},
   "outputs": [
    {
     "name": "stdout",
     "output_type": "stream",
     "text": [
      "<class 'pandas.core.frame.DataFrame'>\n",
      "RangeIndex: 406 entries, 0 to 405\n",
      "Data columns (total 9 columns):\n",
      "Name                406 non-null object\n",
      "Miles_per_Gallon    398 non-null float64\n",
      "Cylinders           406 non-null int64\n",
      "Displacement        406 non-null float64\n",
      "Horsepower          400 non-null float64\n",
      "Weight_in_lbs       406 non-null int64\n",
      "Acceleration        406 non-null float64\n",
      "Year                406 non-null datetime64[ns]\n",
      "Origin              406 non-null object\n",
      "dtypes: datetime64[ns](1), float64(4), int64(2), object(2)\n",
      "memory usage: 28.7+ KB\n"
     ]
    }
   ],
   "source": [
    "import vega_datasets\n",
    "data = vega_datasets.data\n",
    "pd_df = data.cars()\n",
    "pd_df.info()"
   ]
  },
  {
   "cell_type": "code",
   "execution_count": 4,
   "metadata": {
    "scrolled": false
   },
   "outputs": [
    {
     "name": "stdout",
     "output_type": "stream",
     "text": [
      "<class 'eland.dataframe.DataFrame'>\n",
      "Index: 392 entries, 0 to 405\n",
      "Data columns (total 9 columns):\n",
      "Acceleration        392 non-null float64\n",
      "Cylinders           392 non-null int64\n",
      "Displacement        392 non-null float64\n",
      "Horsepower          392 non-null float64\n",
      "Miles_per_Gallon    392 non-null float64\n",
      "Name                392 non-null object\n",
      "Origin              392 non-null object\n",
      "Weight_in_lbs       392 non-null int64\n",
      "Year                392 non-null datetime64[ns]\n",
      "dtypes: datetime64[ns](1), float64(4), int64(2), object(2)\n",
      "memory usage: 96.0 bytes\n"
     ]
    }
   ],
   "source": [
    "ed_df = ed.pandas_to_eland(\n",
    "    pd_df.dropna(),\n",
    "    'localhost',\n",
    "    index_name,\n",
    "    es_if_exists=\"replace\",\n",
    "    es_refresh=True\n",
    ")\n",
    "ed_df.info()"
   ]
  },
  {
   "cell_type": "code",
   "execution_count": 5,
   "metadata": {},
   "outputs": [
    {
     "data": {
      "text/html": [
       "\n",
       "<div id=\"altair-viz-92ff665e9bc046c9b1c7d4fa4dde93aa\"></div>\n",
       "<script type=\"text/javascript\">\n",
       "  (function(spec, embedOpt){\n",
       "    let outputDiv = document.currentScript.previousElementSibling;\n",
       "    if (outputDiv.id !== \"altair-viz-92ff665e9bc046c9b1c7d4fa4dde93aa\") {\n",
       "      outputDiv = document.getElementById(\"altair-viz-92ff665e9bc046c9b1c7d4fa4dde93aa\");\n",
       "    }\n",
       "    const paths = {\n",
       "      \"vega\": \"https://cdn.jsdelivr.net/npm//vega@5?noext\",\n",
       "      \"vega-lib\": \"https://cdn.jsdelivr.net/npm//vega-lib?noext\",\n",
       "      \"vega-lite\": \"https://cdn.jsdelivr.net/npm//vega-lite@4.8.1?noext\",\n",
       "      \"vega-embed\": \"https://cdn.jsdelivr.net/npm//vega-embed@6?noext\",\n",
       "    };\n",
       "\n",
       "    function loadScript(lib) {\n",
       "      return new Promise(function(resolve, reject) {\n",
       "        var s = document.createElement('script');\n",
       "        s.src = paths[lib];\n",
       "        s.async = true;\n",
       "        s.onload = () => resolve(paths[lib]);\n",
       "        s.onerror = () => reject(`Error loading script: ${paths[lib]}`);\n",
       "        document.getElementsByTagName(\"head\")[0].appendChild(s);\n",
       "      });\n",
       "    }\n",
       "\n",
       "    function showError(err) {\n",
       "      outputDiv.innerHTML = `<div class=\"error\" style=\"color:red;\">${err}</div>`;\n",
       "      throw err;\n",
       "    }\n",
       "\n",
       "    function displayChart(vegaEmbed) {\n",
       "      vegaEmbed(outputDiv, spec, embedOpt)\n",
       "        .catch(err => showError(`Javascript Error: ${err.message}<br>This usually means there's a typo in your chart specification. See the javascript console for the full traceback.`));\n",
       "    }\n",
       "\n",
       "    if(typeof define === \"function\" && define.amd) {\n",
       "      requirejs.config({paths});\n",
       "      require([\"vega-embed\"], displayChart, err => showError(`Error loading script: ${err.message}`));\n",
       "    } else if (typeof vegaEmbed === \"function\") {\n",
       "      displayChart(vegaEmbed);\n",
       "    } else {\n",
       "      loadScript(\"vega\")\n",
       "        .then(() => loadScript(\"vega-lite\"))\n",
       "        .then(() => loadScript(\"vega-embed\"))\n",
       "        .catch(showError)\n",
       "        .then(() => displayChart(vegaEmbed));\n",
       "    }\n",
       "  })({\"config\": {\"view\": {\"continuousWidth\": 400, \"continuousHeight\": 300}}, \"repeat\": {\"column\": [\"Miles_per_Gallon\", \"Acceleration\", \"Horsepower\"], \"row\": [\"Horsepower\", \"Acceleration\", \"Miles_per_Gallon\"]}, \"spec\": {\"data\": {\"url\": \"http://localhost:9200/pandas_to_eland/_search?size=1000\", \"format\": {\"property\": \"hits.hits\", \"type\": \"json\"}}, \"mark\": {\"type\": \"circle\", \"size\": 8}, \"encoding\": {\"color\": {\"type\": \"nominal\", \"field\": \"Origin\"}, \"x\": {\"type\": \"quantitative\", \"field\": {\"repeat\": \"column\"}}, \"y\": {\"type\": \"quantitative\", \"field\": {\"repeat\": \"row\"}}}, \"height\": 150, \"selection\": {\"selector001\": {\"type\": \"interval\", \"bind\": \"scales\", \"encodings\": [\"x\", \"y\"]}}, \"transform\": [{\"calculate\": \"datum._source.Acceleration\", \"as\": \"Acceleration\"}, {\"calculate\": \"datum._source.Cylinders\", \"as\": \"Cylinders\"}, {\"calculate\": \"datum._source.Displacement\", \"as\": \"Displacement\"}, {\"calculate\": \"datum._source.Horsepower\", \"as\": \"Horsepower\"}, {\"calculate\": \"datum._source.Miles_per_Gallon\", \"as\": \"Miles_per_Gallon\"}, {\"calculate\": \"datum._source.Name\", \"as\": \"Name\"}, {\"calculate\": \"datum._source.Origin\", \"as\": \"Origin\"}, {\"calculate\": \"datum._source.Weight_in_lbs\", \"as\": \"Weight_in_lbs\"}, {\"calculate\": \"datum._source.Year\", \"as\": \"Year\"}], \"width\": 150}, \"$schema\": \"https://vega.github.io/schema/vega-lite/v4.8.1.json\"}, {\"mode\": \"vega-lite\"});\n",
       "</script>"
      ],
      "text/plain": [
       "alt.RepeatChart(...)"
      ]
     },
     "execution_count": 5,
     "metadata": {},
     "output_type": "execute_result"
    }
   ],
   "source": [
    "url = 'http://localhost:9200/'+index_name+'/_search?size=1000'\n",
    "url_data = alt.Data(url=url, format=alt.DataFormat(property='hits.hits',type='json'))\n",
    "\n",
    "fields = ed_df.columns\n",
    "\n",
    "rename_dict = dict((a, 'datum._source.'+a) for a in fields)\n",
    "\n",
    "chart = alt.Chart(url_data).transform_calculate(**rename_dict).mark_circle(size=8).encode(\n",
    "    alt.X(alt.repeat(\"column\"), type='quantitative'),\n",
    "    alt.Y(alt.repeat(\"row\"), type='quantitative'),\n",
    "    color='Origin:N'\n",
    ").properties(\n",
    "    width=150,\n",
    "    height=150\n",
    ").repeat(\n",
    "    row=['Horsepower', 'Acceleration', 'Miles_per_Gallon'],\n",
    "    column=['Miles_per_Gallon', 'Acceleration', 'Horsepower']\n",
    ").interactive()\n",
    "\n",
    "chart"
   ]
  },
  {
   "cell_type": "code",
   "execution_count": 6,
   "metadata": {},
   "outputs": [
    {
     "data": {
      "text/plain": [
       "{'_index': '.kibana_3',\n",
       " '_id': 'visualization:def-vega-cars-1',\n",
       " '_version': 2,\n",
       " 'result': 'updated',\n",
       " '_shards': {'total': 1, 'successful': 1, 'failed': 0},\n",
       " '_seq_no': 392,\n",
       " '_primary_term': 2}"
      ]
     },
     "execution_count": 6,
     "metadata": {},
     "output_type": "execute_result"
    }
   ],
   "source": [
    "from kibana_vega_util import saveVegaVis\n",
    "from elasticsearch import Elasticsearch \n",
    "es=Elasticsearch([{'host':'localhost','port':9200}])\n",
    "\n",
    "saveVegaVis(es, index_name, 'def-vega-cars-1', chart, resultSize=1000)"
   ]
  }
 ],
 "metadata": {
  "kernelspec": {
   "display_name": "Python 3",
   "language": "python",
   "name": "python3"
  },
  "language_info": {
   "codemirror_mode": {
    "name": "ipython",
    "version": 3
   },
   "file_extension": ".py",
   "mimetype": "text/x-python",
   "name": "python",
   "nbconvert_exporter": "python",
   "pygments_lexer": "ipython3",
   "version": "3.7.4"
  }
 },
 "nbformat": 4,
 "nbformat_minor": 2
}
